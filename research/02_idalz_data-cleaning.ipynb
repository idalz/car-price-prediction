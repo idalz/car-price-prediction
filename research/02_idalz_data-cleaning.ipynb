{
 "cells": [
  {
   "cell_type": "code",
   "execution_count": 1,
   "metadata": {},
   "outputs": [
    {
     "data": {
      "text/plain": [
       "'e:\\\\DataScienceProjects\\\\car-price-prediction'"
      ]
     },
     "execution_count": 1,
     "metadata": {},
     "output_type": "execute_result"
    }
   ],
   "source": [
    "import os\n",
    "\n",
    "os.chdir('..')\n",
    "%pwd"
   ]
  },
  {
   "cell_type": "code",
   "execution_count": 2,
   "metadata": {},
   "outputs": [],
   "source": [
    "# Entity\n",
    "from dataclasses import dataclass\n",
    "from pathlib import Path\n",
    "\n",
    "@dataclass(frozen=True)\n",
    "class DataCleaningConfig:\n",
    "    root_dir: Path\n",
    "    raw_dataset_dir: Path\n",
    "    dataset_dir: Path"
   ]
  },
  {
   "cell_type": "code",
   "execution_count": 3,
   "metadata": {},
   "outputs": [],
   "source": [
    "# Configuration Manager\n",
    "from carPricePrediction.constants import *\n",
    "from carPricePrediction.utils.common import read_yaml, create_directories\n",
    "\n",
    "class ConfigurationManager:\n",
    "    def __init__(\n",
    "            self,\n",
    "            config_filepath = CONFIG_FILE_PATH,\n",
    "            params_filepath = PARAMS_FILE_PATH\n",
    "    ):\n",
    "        self.config = read_yaml(config_filepath)\n",
    "        self.params = read_yaml(params_filepath)\n",
    "        create_directories([self.config.artifacts_root])\n",
    "\n",
    "    def get_data_cleaning_config(self)-> DataCleaningConfig:\n",
    "        config = self.config.data_cleaning\n",
    "\n",
    "        create_directories([config.root_dir, config.dataset_dir])\n",
    "\n",
    "        data_cleaning_config = DataCleaningConfig(\n",
    "            root_dir = config.root_dir,\n",
    "            raw_dataset_dir = config.raw_dataset_dir,\n",
    "            dataset_dir = config.dataset_dir\n",
    "            \n",
    "        )\n",
    "\n",
    "        return data_cleaning_config"
   ]
  },
  {
   "cell_type": "code",
   "execution_count": 4,
   "metadata": {},
   "outputs": [],
   "source": [
    "# Data ingestion component\n",
    "import os \n",
    "from carPricePrediction.logging import logger\n",
    "import datetime\n",
    "import pandas as pd\n",
    "\n",
    "class DataCleaning:\n",
    "    def __init__(self, config: DataCleaningConfig):\n",
    "        self.config = config\n",
    "\n",
    "    def clean_data(self):\n",
    "        ### Read raw data\n",
    "        file = os.listdir(self.config.raw_dataset_dir)\n",
    "        raw_data = os.path.join(self.config.raw_dataset_dir, file[0])\n",
    "        df = pd.read_csv(raw_data)\n",
    "\n",
    "        ### Clean Data\n",
    "        # Drop ID, Model and Levy\n",
    "        df.drop(['ID','Model','Levy'], axis=1, inplace=True)\n",
    "        \n",
    "        # Make Engine volume numerical and create extra feature turbo.\n",
    "        numerical_values = []\n",
    "        turbo_indicator = []\n",
    "        engine_volume = df['Engine volume']\n",
    "        for value in engine_volume:\n",
    "            if 'Turbo' in value:\n",
    "                numerical_values.append(float(value.split()[0]))\n",
    "                turbo_indicator.append('Yes')\n",
    "            else:\n",
    "                numerical_values.append(float(value))\n",
    "                turbo_indicator.append('No')\n",
    "\n",
    "        temp_df = pd.DataFrame({'EngineVolume': numerical_values, 'Turbo': turbo_indicator})\n",
    "        df = pd.concat([df, temp_df], axis=1)\n",
    "        df.drop(['Engine volume'], axis=1, inplace=True)\n",
    "\n",
    "        # Make Mileage numerical\n",
    "        df['Mileage_km'] = [int(value.split()[0]) for value in df['Mileage']]\n",
    "        df.drop(['Mileage'], axis=1, inplace=True)\n",
    "\n",
    "        # Change Prod. year to years (from current date)\n",
    "        current_year = datetime.datetime.now().year\n",
    "        df['years'] = current_year - df['Prod. year']\n",
    "        df.drop(['Prod. year'], axis=1, inplace=True)\n",
    "\n",
    "        # Remove Outliers\n",
    "        num_features = ['Price', 'EngineVolume', 'Mileage_km']\n",
    "        for feature in num_features:\n",
    "            remove_lines = self.get_outliers_index(df,feature)\n",
    "            df.drop(remove_lines,inplace=True)\n",
    "\n",
    "        # Drop duplicates\n",
    "        df.drop_duplicates(inplace=True)\n",
    "\n",
    "        # Save the cleaned dataset\n",
    "        file_path = os.path.join(self.config.dataset_dir, 'interim.csv')\n",
    "        df.to_csv(file_path, index=False)\n",
    "\n",
    "        logger.info(\"Clean data saved successfully.\")\n",
    "\n",
    "\n",
    "\n",
    "    # Remove significant extreme outliers from the dataset\n",
    "    # We will set multiplier=3 to capture them (we can adjust the multiplier)\n",
    "    def get_outliers_index(self, data, feature):\n",
    "        \"\"\"\n",
    "        Returns the index of significant extreme outliers.\n",
    "        \"\"\"\n",
    "        # Calculate the IQR\n",
    "        Q1 = data[feature].quantile(0.25)\n",
    "        Q3 = data[feature].quantile(0.75)\n",
    "        IQR = Q3 - Q1\n",
    "\n",
    "        # Define the upper and lower bounds \n",
    "        #(4.5 in order to detect outliers significantly far from the median )\n",
    "        lower_bound = Q1 - 4.5 * IQR\n",
    "        upper_bound = Q3 + 4.5 * IQR\n",
    "\n",
    "        # Identify extreme outliers\n",
    "        extreme_outliers = data[(data[feature] < lower_bound) | (data[feature] > upper_bound)]\n",
    "\n",
    "        return extreme_outliers[[feature]].index\n"
   ]
  },
  {
   "cell_type": "code",
   "execution_count": 5,
   "metadata": {},
   "outputs": [
    {
     "name": "stdout",
     "output_type": "stream",
     "text": [
      "[2024-03-29 17:46:35,136: INFO: common: yaml file: config\\config.yaml loaded successfully.]\n",
      "[2024-03-29 17:46:35,138: INFO: common: yaml file: params.yaml loaded successfully.]\n",
      "[2024-03-29 17:46:35,140: INFO: common: Created directory at: artifacts]\n",
      "[2024-03-29 17:46:35,142: INFO: common: Created directory at: artifacts/data]\n",
      "[2024-03-29 17:46:35,144: INFO: common: Created directory at: artifacts/data/interim]\n",
      "[2024-03-29 17:46:35,345: INFO: 206511902: Clean data saved successfully.]\n"
     ]
    }
   ],
   "source": [
    "# Data cleaning training pipeline\n",
    "try:\n",
    "    config = ConfigurationManager()\n",
    "    data_cleaning_config = config.get_data_cleaning_config()\n",
    "    data_cleaning = DataCleaning(config=data_cleaning_config)\n",
    "    data_cleaning.clean_data()\n",
    "except Exception as e:\n",
    "    raise e"
   ]
  },
  {
   "cell_type": "code",
   "execution_count": null,
   "metadata": {},
   "outputs": [],
   "source": []
  }
 ],
 "metadata": {
  "kernelspec": {
   "display_name": "gpuenv",
   "language": "python",
   "name": "python3"
  },
  "language_info": {
   "codemirror_mode": {
    "name": "ipython",
    "version": 3
   },
   "file_extension": ".py",
   "mimetype": "text/x-python",
   "name": "python",
   "nbconvert_exporter": "python",
   "pygments_lexer": "ipython3",
   "version": "3.8.18"
  }
 },
 "nbformat": 4,
 "nbformat_minor": 2
}
