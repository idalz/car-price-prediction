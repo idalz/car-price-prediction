{
 "cells": [
  {
   "cell_type": "code",
   "execution_count": 1,
   "metadata": {},
   "outputs": [
    {
     "data": {
      "text/plain": [
       "'e:\\\\DataScienceProjects\\\\car-price-prediction'"
      ]
     },
     "execution_count": 1,
     "metadata": {},
     "output_type": "execute_result"
    }
   ],
   "source": [
    "import os\n",
    "\n",
    "os.chdir('..')\n",
    "%pwd"
   ]
  },
  {
   "cell_type": "code",
   "execution_count": 2,
   "metadata": {},
   "outputs": [],
   "source": [
    "# Entity\n",
    "from dataclasses import dataclass\n",
    "from pathlib import Path\n",
    "\n",
    "@dataclass(frozen=True)\n",
    "class DataTransformationConfig:\n",
    "    root_dir: Path\n",
    "    interim_dataset_dir: Path\n",
    "    dataset_dir: Path\n",
    "    label_encoder_dir: Path\n",
    "    tensors_dim_dir: Path"
   ]
  },
  {
   "cell_type": "code",
   "execution_count": 3,
   "metadata": {},
   "outputs": [],
   "source": [
    "# Configuration Manager\n",
    "from carPricePrediction.constants import *\n",
    "from carPricePrediction.utils.common import read_yaml, create_directories\n",
    "\n",
    "class ConfigurationManager:\n",
    "    def __init__(\n",
    "            self,\n",
    "            config_filepath = CONFIG_FILE_PATH,\n",
    "            params_filepath = PARAMS_FILE_PATH\n",
    "    ):\n",
    "        self.config = read_yaml(config_filepath)\n",
    "        self.params = read_yaml(params_filepath)\n",
    "        create_directories([self.config.artifacts_root])\n",
    "\n",
    "    def get_data_transformation_config(self)-> DataTransformationConfig:\n",
    "        config = self.config.data_transformation\n",
    "\n",
    "        create_directories([\n",
    "            config.root_dir, \n",
    "            config.dataset_dir,\n",
    "            config.label_encoder_dir,\n",
    "            config.tensors_dim_dir\n",
    "        ])\n",
    "\n",
    "        data_transformation_config = DataTransformationConfig(\n",
    "            root_dir = config.root_dir,\n",
    "            interim_dataset_dir = config.interim_dataset_dir,\n",
    "            dataset_dir = config.dataset_dir,\n",
    "            label_encoder_dir = config.label_encoder_dir,\n",
    "            tensors_dim_dir = config.tensors_dim_dir            \n",
    "        )\n",
    "\n",
    "        return data_transformation_config"
   ]
  },
  {
   "cell_type": "code",
   "execution_count": 4,
   "metadata": {},
   "outputs": [],
   "source": [
    "import joblib\n",
    "import pickle\n",
    "import pandas as pd\n",
    "from sklearn.preprocessing import LabelEncoder\n",
    "import torch\n",
    "from carPricePrediction.logging import logger\n",
    "from torch.utils.data import TensorDataset, random_split"
   ]
  },
  {
   "cell_type": "code",
   "execution_count": 5,
   "metadata": {},
   "outputs": [],
   "source": [
    "class DataTransfomration:\n",
    "    def __init__(self, config: DataTransformationConfig):\n",
    "        self.config = config\n",
    "    \n",
    "    def transform_data(self):\n",
    "        ### Read interim data\n",
    "        file = os.listdir(self.config.interim_dataset_dir)\n",
    "        interim_data = os.path.join(self.config.interim_dataset_dir, file[0])\n",
    "        df = pd.read_csv(interim_data)\n",
    "\n",
    "        # Get features type\n",
    "        target_feature = 'Price'\n",
    "        num_features = df.drop(['Price'], axis=1).select_dtypes(include='number').columns\n",
    "        cat_features = df.select_dtypes(include='object').columns\n",
    "\n",
    "        # Label encoding for categorical features\n",
    "        lbl_encoders={}\n",
    "        for feature in cat_features:\n",
    "            lbl_encoders[feature] = LabelEncoder()\n",
    "            df[feature] = lbl_encoders[feature].fit_transform(df[feature])\n",
    "\n",
    "        # Convert categorical data into tensor\n",
    "        cat_arr = df[cat_features].to_numpy()\n",
    "        cat_tensor = torch.tensor(cat_arr, dtype=torch.int64)\n",
    "\n",
    "        # Convert numerical data into tensor\n",
    "        num_arr = df[num_features].to_numpy()\n",
    "        num_tensor = torch.tensor(num_arr, dtype=torch.float)\n",
    "\n",
    "        # Convert target into tensor\n",
    "        target_arr = df[target_feature].to_numpy()\n",
    "        y_tensor = torch.tensor(target_arr, dtype=torch.float).reshape(-1,1)\n",
    "\n",
    "        # Create the embedding size for categorical features\n",
    "        cat_dims = [len(df[feature].unique()) for feature in cat_features]\n",
    "        # Rule of thumb for embedding dim (by fastai)\n",
    "        embedding_dim = [(x, min(50, (x+1)//2)) for x in cat_dims]\n",
    "\n",
    "        ### Save Label Encoders\n",
    "        encoder_file_path = os.path.join(self.config.label_encoder_dir, f'LE_dict.pkl')\n",
    "        joblib.dump(lbl_encoders, encoder_file_path)\n",
    "\n",
    "        ### Save numerical dimensions  \n",
    "        num_dim_file_path = os.path.join(self.config.tensors_dim_dir, 'num_dim.pkl')\n",
    "        with open(num_dim_file_path, 'wb') as f:\n",
    "            pickle.dump(num_tensor.shape[1], f)\n",
    "\n",
    "        ### Save embedding dimensions \n",
    "        emb_dim_file_path = os.path.join(self.config.tensors_dim_dir, 'embedding_dim.pkl')\n",
    "        with open(emb_dim_file_path, 'wb') as f:\n",
    "            pickle.dump(embedding_dim, f)\n",
    "\n",
    "        ### Save dataset\n",
    "        dataset = TensorDataset(cat_tensor, num_tensor, y_tensor)\n",
    "        train_data, val_data, test_data = self.get_random_split(dataset)\n",
    "\n",
    "        train_file_path = os.path.join(self.config.dataset_dir,\"train.pth\")\n",
    "        val_file_path = os.path.join(self.config.dataset_dir,\"val.pth\")\n",
    "        test_file_path = os.path.join(self.config.dataset_dir,\"test.pth\")\n",
    "        torch.save(train_data, train_file_path)\n",
    "        torch.save(val_data, val_file_path)\n",
    "        torch.save(test_data, test_file_path)\n",
    "\n",
    "        logger.info(\"Processed datasets saved successfully.\")\n",
    "\n",
    "\n",
    "    def get_random_split(self, dataset):\n",
    "        train_size = int(0.7 * len(dataset))  # 70% for training\n",
    "        val_size = int(0.15 * len(dataset))   # 15% for validation\n",
    "        test_size = len(dataset) - train_size - val_size \n",
    "        train_data, val_data, test_data = random_split(dataset, [train_size, val_size, test_size])\n",
    "        return train_data, val_data, test_data"
   ]
  },
  {
   "cell_type": "code",
   "execution_count": 6,
   "metadata": {},
   "outputs": [
    {
     "name": "stdout",
     "output_type": "stream",
     "text": [
      "[2024-03-30 19:14:32,534: INFO: common: yaml file: config\\config.yaml loaded successfully.]\n",
      "[2024-03-30 19:14:32,536: INFO: common: yaml file: params.yaml loaded successfully.]\n",
      "[2024-03-30 19:14:32,537: INFO: common: Created directory at: artifacts]\n",
      "[2024-03-30 19:14:32,538: INFO: common: Created directory at: artifacts]\n",
      "[2024-03-30 19:14:32,540: INFO: common: Created directory at: artifacts/data/processed]\n",
      "[2024-03-30 19:14:32,541: INFO: common: Created directory at: artifacts/encoders]\n",
      "[2024-03-30 19:14:32,541: INFO: common: Created directory at: artifacts/tensors_dim]\n",
      "[2024-03-30 19:14:32,637: INFO: 1067956073: Processed datasets saved successfully.]\n"
     ]
    }
   ],
   "source": [
    "# Data transformation training pipeline\n",
    "try:\n",
    "    config = ConfigurationManager()\n",
    "    data_transformation_config = config.get_data_transformation_config()\n",
    "    data_transformation = DataTransfomration(config=data_transformation_config)\n",
    "    data_transformation.transform_data()\n",
    "except Exception as e:\n",
    "    raise e"
   ]
  },
  {
   "cell_type": "code",
   "execution_count": null,
   "metadata": {},
   "outputs": [],
   "source": []
  }
 ],
 "metadata": {
  "kernelspec": {
   "display_name": "gpuenv",
   "language": "python",
   "name": "python3"
  },
  "language_info": {
   "codemirror_mode": {
    "name": "ipython",
    "version": 3
   },
   "file_extension": ".py",
   "mimetype": "text/x-python",
   "name": "python",
   "nbconvert_exporter": "python",
   "pygments_lexer": "ipython3",
   "version": "3.8.18"
  }
 },
 "nbformat": 4,
 "nbformat_minor": 2
}
