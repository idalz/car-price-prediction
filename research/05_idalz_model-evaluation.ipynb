{
 "cells": [
  {
   "cell_type": "code",
   "execution_count": 1,
   "metadata": {},
   "outputs": [
    {
     "data": {
      "text/plain": [
       "'e:\\\\DataScienceProjects\\\\car-price-prediction'"
      ]
     },
     "execution_count": 1,
     "metadata": {},
     "output_type": "execute_result"
    }
   ],
   "source": [
    "import os\n",
    "os.chdir(\"../\")\n",
    "%pwd"
   ]
  },
  {
   "cell_type": "code",
   "execution_count": 2,
   "metadata": {},
   "outputs": [],
   "source": [
    "from dataclasses import dataclass\n",
    "from pathlib import Path\n",
    "from typing import List\n",
    "\n",
    "@dataclass(frozen=True)\n",
    "class ModelEvaluationConfig:\n",
    "    root_dir: Path\n",
    "    model_file_path: Path\n",
    "    model_state_file_path: Path\n",
    "    embed_dim_file_path: Path\n",
    "    num_dim_file_path: Path\n",
    "    data_file_path: Path\n",
    "    evaluation_results: Path\n",
    "    batch_size: Path\n",
    "    layers: List\n",
    "    dropout: float"
   ]
  },
  {
   "cell_type": "code",
   "execution_count": 3,
   "metadata": {},
   "outputs": [],
   "source": [
    "\n",
    "from carPricePrediction.constants import *\n",
    "from carPricePrediction.utils.common import read_yaml, create_directories\n",
    "\n",
    "class ConfigurationManager:\n",
    "    def __init__(\n",
    "        self,\n",
    "        config_filepath = CONFIG_FILE_PATH,\n",
    "        params_filepath = PARAMS_FILE_PATH\n",
    "    ):\n",
    "        self.config = read_yaml(config_filepath)\n",
    "        self.params = read_yaml(params_filepath)\n",
    "        create_directories([self.config.artifacts_root])\n",
    "\n",
    "    def get_model_evaluation_config(self) -> ModelEvaluationConfig:\n",
    "        config = self.config.model_evaluation\n",
    "        params = self.params.EvaluationArguments\n",
    "\n",
    "        create_directories([config.root_dir])\n",
    "\n",
    "        model_evaluation_config = ModelEvaluationConfig(\n",
    "            root_dir=config.root_dir,\n",
    "            model_file_path=config.model_file_path,\n",
    "            model_state_file_path = config.model_state_file_path,\n",
    "            embed_dim_file_path = config.embed_dim_file_path,\n",
    "            num_dim_file_path = config.num_dim_file_path,\n",
    "            data_file_path = config.data_file_path,\n",
    "            evaluation_results = config.evaluation_results,\n",
    "            batch_size = params.batch_size,\n",
    "            layers = params.layers,\n",
    "            dropout =  params.layers\n",
    "        )\n",
    "\n",
    "        return model_evaluation_config"
   ]
  },
  {
   "cell_type": "code",
   "execution_count": 4,
   "metadata": {},
   "outputs": [],
   "source": [
    "import pickle\n",
    "import torch\n",
    "import torch.nn as nn\n",
    "from torch.utils.data import DataLoader\n",
    "from carPricePrediction.components.feed_forward_nn import FeedForwardNN\n",
    "\n",
    "class ModelEvaluation:\n",
    "    def __init__(self, config: ModelEvaluationConfig):\n",
    "        self.config = config\n",
    "\n",
    "    def evaluate_model(self):\n",
    "        # Set device\n",
    "        device = torch.device(\"cuda\" if torch.cuda.is_available() else \"cpu\")\n",
    "        \n",
    "        # Load test data\n",
    "        test_data = torch.load(self.config.data_file_path)\n",
    "        # Create data loader\n",
    "        test_loader = DataLoader(test_data, batch_size=self.config.batch_size, shuffle=True)\n",
    "        \n",
    "        # Load dimensions\n",
    "        with open(self.config.num_dim_file_path, 'rb') as f:\n",
    "            num_dim = pickle.load(f)\n",
    "        with open(self.config.embed_dim_file_path, 'rb') as f:\n",
    "            embedding_dim = pickle.load(f)\n",
    "\n",
    "        # Load trained model\n",
    "        if torch.cuda.is_available():\n",
    "            # Load the entire model\n",
    "            model = torch.load(self.config.model_file_path)\n",
    "        else:\n",
    "            # Recreate the model architecture\n",
    "            model = FeedForwardNN(\n",
    "                embedding_dim=embedding_dim, \n",
    "                n_cont=num_dim, \n",
    "                out_dim=1, \n",
    "                layers=self.config.layers, \n",
    "                dout=self.config.dropout\n",
    "            )\n",
    "            \n",
    "            # Load the state dictionary into the model\n",
    "            model.load_state_dict(torch.load(self.config.model_state_file_path))\n",
    "        \n",
    "            # Set it to current device (not needed)\n",
    "            model.to(device)\n",
    "\n",
    "        # Set loss function\n",
    "        loss_function = nn.MSELoss()\n",
    "\n",
    "        model.eval()  # Set the model to evaluation mode\n",
    "        test_loss = 0\n",
    "\n",
    "        # Model Evaluation\n",
    "        with torch.no_grad():\n",
    "            for cat_data, num_data, target in test_loader:\n",
    "                cat_data, num_data, target = cat_data.to(device), num_data.to(device), target.to(device)\n",
    "                prediction = model(cat_data, num_data)\n",
    "                loss = torch.sqrt(loss_function(prediction, target))\n",
    "                test_loss += loss\n",
    "            test_loss /= len(test_loader)\n",
    "\n",
    "        # Save test loss\n",
    "        results_path = os.path.join(self.config.evaluation_results, 'evaluation_results.txt')\n",
    "        with open(results_path, 'w') as file:\n",
    "            file.write(f'Test Loss (RMSE): {test_loss:.4f}')"
   ]
  },
  {
   "cell_type": "code",
   "execution_count": 5,
   "metadata": {},
   "outputs": [
    {
     "name": "stdout",
     "output_type": "stream",
     "text": [
      "[2024-03-30 21:52:02,772: INFO: common: yaml file: config\\config.yaml loaded successfully.]\n",
      "[2024-03-30 21:52:02,775: INFO: common: yaml file: params.yaml loaded successfully.]\n",
      "[2024-03-30 21:52:02,777: INFO: common: Created directory at: artifacts]\n",
      "[2024-03-30 21:52:02,778: INFO: common: Created directory at: artifacts/model]\n",
      "Test Loss: 7755.7007\n"
     ]
    }
   ],
   "source": [
    "try:\n",
    "    config = ConfigurationManager()\n",
    "    model_evaluation_config = config.get_model_evaluation_config()\n",
    "    model_evaluation = ModelEvaluation(config=model_evaluation_config)\n",
    "    model_evaluation.evaluate_model()\n",
    "except Exception as e:\n",
    "    raise e"
   ]
  },
  {
   "cell_type": "code",
   "execution_count": null,
   "metadata": {},
   "outputs": [],
   "source": []
  }
 ],
 "metadata": {
  "kernelspec": {
   "display_name": "gpuenv",
   "language": "python",
   "name": "python3"
  },
  "language_info": {
   "codemirror_mode": {
    "name": "ipython",
    "version": 3
   },
   "file_extension": ".py",
   "mimetype": "text/x-python",
   "name": "python",
   "nbconvert_exporter": "python",
   "pygments_lexer": "ipython3",
   "version": "3.8.18"
  }
 },
 "nbformat": 4,
 "nbformat_minor": 2
}
