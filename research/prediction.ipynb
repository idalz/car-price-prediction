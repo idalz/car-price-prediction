{
 "cells": [
  {
   "cell_type": "code",
   "execution_count": 1,
   "metadata": {},
   "outputs": [
    {
     "data": {
      "text/plain": [
       "'e:\\\\DataScienceProjects\\\\car-price-prediction'"
      ]
     },
     "execution_count": 1,
     "metadata": {},
     "output_type": "execute_result"
    }
   ],
   "source": [
    "import os\n",
    "os.chdir(\"../\")\n",
    "%pwd"
   ]
  },
  {
   "cell_type": "code",
   "execution_count": 10,
   "metadata": {},
   "outputs": [],
   "source": [
    "import torch\n",
    "from carPricePrediction.components.data_to_tensors import DataToTensors\n",
    "\n",
    "class PredictionPipeline:\n",
    "    def __init__(self):\n",
    "        pass\n",
    "\n",
    "    def predict(self, cat_tensor, num_tensor):\n",
    "        # Load and set the model\n",
    "        device = torch.device(\"cuda\" if torch.cuda.is_available() else \"cpu\")\n",
    "        model = torch.load('artifacts/model/model.pth')\n",
    "        model.to(device)\n",
    "        model.eval()\n",
    "\n",
    "        # Predict the value\n",
    "        with torch.no_grad():\n",
    "            results = model(cat_tensor, num_tensor)\n",
    "\n",
    "        return results.item()\n"
   ]
  },
  {
   "cell_type": "code",
   "execution_count": 11,
   "metadata": {},
   "outputs": [
    {
     "name": "stdout",
     "output_type": "stream",
     "text": [
      "{\"Manufacturer\": [\"LEXUS\"], \"Category\": [\"Jeep\"], \"Leather interior\": [\"Yes\"], \"Fuel type\": [\"Hybrid\"], \"Cylinders\": [6.0], \"Gear box type\": [\"Automatic\"], \"Drive wheels\": [\"4x4\"], \"Doors\": [\"04-May\"], \"Wheel\": [\"Left wheel\"], \"Color\": [\"Silver\"], \"Airbags\": [12], \"EngineVolume\": [3.5], \"Turbo\": [\"No\"], \"Mileage_km\": [86005], \"years\": [10]}\n"
     ]
    }
   ],
   "source": [
    "# Example\n",
    "import json\n",
    "\n",
    "data_dict = {\n",
    "    'Manufacturer': ['LEXUS'],\n",
    "    'Category': ['Jeep'],\n",
    "    'Leather interior': ['Yes'],\n",
    "    'Fuel type': ['Hybrid'],\n",
    "    'Cylinders': [6.0],\n",
    "    'Gear box type': ['Automatic'],\n",
    "    'Drive wheels': ['4x4'],\n",
    "    'Doors': ['04-May'],\n",
    "    'Wheel': ['Left wheel'],\n",
    "    'Color': ['Silver'],\n",
    "    'Airbags': [12],\n",
    "    'EngineVolume': [3.5],\n",
    "    'Turbo': ['No'],\n",
    "    'Mileage_km': [86005],\n",
    "    'years': [10]\n",
    "}\n",
    "\n",
    "# Convert dictionary to JSON string\n",
    "json_string = json.dumps(data_dict)\n",
    "\n",
    "# Print JSON string\n",
    "print(json_string)\n"
   ]
  },
  {
   "cell_type": "code",
   "execution_count": 12,
   "metadata": {},
   "outputs": [
    {
     "name": "stdout",
     "output_type": "stream",
     "text": [
      "24641.779296875\n"
     ]
    }
   ],
   "source": [
    "# Prediction pipeline\n",
    "try:\n",
    "    # Convert the data into tensors\n",
    "    obj = DataToTensors()\n",
    "    cat_tensor, num_tensor = obj.json_to_tensors(json_string)\n",
    "    \n",
    "    # Make the prediction\n",
    "    prediction = PredictionPipeline()\n",
    "    pred = prediction.predict(cat_tensor, num_tensor)\n",
    "    print(pred)\n",
    "except Exception as e:\n",
    "    raise e"
   ]
  },
  {
   "cell_type": "code",
   "execution_count": null,
   "metadata": {},
   "outputs": [],
   "source": []
  }
 ],
 "metadata": {
  "kernelspec": {
   "display_name": "gpuenv",
   "language": "python",
   "name": "python3"
  },
  "language_info": {
   "codemirror_mode": {
    "name": "ipython",
    "version": 3
   },
   "file_extension": ".py",
   "mimetype": "text/x-python",
   "name": "python",
   "nbconvert_exporter": "python",
   "pygments_lexer": "ipython3",
   "version": "3.8.18"
  }
 },
 "nbformat": 4,
 "nbformat_minor": 2
}
