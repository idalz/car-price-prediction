{
 "cells": [
  {
   "cell_type": "code",
   "execution_count": 1,
   "metadata": {},
   "outputs": [
    {
     "data": {
      "text/plain": [
       "'e:\\\\DataScienceProjects\\\\car-price-prediction'"
      ]
     },
     "execution_count": 1,
     "metadata": {},
     "output_type": "execute_result"
    }
   ],
   "source": [
    "import os\n",
    "os.chdir('../')\n",
    "%pwd "
   ]
  },
  {
   "cell_type": "code",
   "execution_count": 2,
   "metadata": {},
   "outputs": [
    {
     "data": {
      "text/html": [
       "<div>\n",
       "<style scoped>\n",
       "    .dataframe tbody tr th:only-of-type {\n",
       "        vertical-align: middle;\n",
       "    }\n",
       "\n",
       "    .dataframe tbody tr th {\n",
       "        vertical-align: top;\n",
       "    }\n",
       "\n",
       "    .dataframe thead th {\n",
       "        text-align: right;\n",
       "    }\n",
       "</style>\n",
       "<table border=\"1\" class=\"dataframe\">\n",
       "  <thead>\n",
       "    <tr style=\"text-align: right;\">\n",
       "      <th></th>\n",
       "      <th>Price</th>\n",
       "      <th>Manufacturer</th>\n",
       "      <th>Category</th>\n",
       "      <th>Leather interior</th>\n",
       "      <th>Fuel type</th>\n",
       "      <th>Cylinders</th>\n",
       "      <th>Gear box type</th>\n",
       "      <th>Drive wheels</th>\n",
       "      <th>Doors</th>\n",
       "      <th>Wheel</th>\n",
       "      <th>Color</th>\n",
       "      <th>Airbags</th>\n",
       "      <th>EngineVolume</th>\n",
       "      <th>Turbo</th>\n",
       "      <th>Mileage_km</th>\n",
       "      <th>years</th>\n",
       "    </tr>\n",
       "  </thead>\n",
       "  <tbody>\n",
       "    <tr>\n",
       "      <th>0</th>\n",
       "      <td>13328</td>\n",
       "      <td>LEXUS</td>\n",
       "      <td>Jeep</td>\n",
       "      <td>Yes</td>\n",
       "      <td>Hybrid</td>\n",
       "      <td>6.0</td>\n",
       "      <td>Automatic</td>\n",
       "      <td>4x4</td>\n",
       "      <td>04-May</td>\n",
       "      <td>Left wheel</td>\n",
       "      <td>Silver</td>\n",
       "      <td>12</td>\n",
       "      <td>3.5</td>\n",
       "      <td>No</td>\n",
       "      <td>186005</td>\n",
       "      <td>14</td>\n",
       "    </tr>\n",
       "    <tr>\n",
       "      <th>1</th>\n",
       "      <td>16621</td>\n",
       "      <td>CHEVROLET</td>\n",
       "      <td>Jeep</td>\n",
       "      <td>No</td>\n",
       "      <td>Petrol</td>\n",
       "      <td>6.0</td>\n",
       "      <td>Tiptronic</td>\n",
       "      <td>4x4</td>\n",
       "      <td>04-May</td>\n",
       "      <td>Left wheel</td>\n",
       "      <td>Black</td>\n",
       "      <td>8</td>\n",
       "      <td>3.0</td>\n",
       "      <td>No</td>\n",
       "      <td>192000</td>\n",
       "      <td>13</td>\n",
       "    </tr>\n",
       "    <tr>\n",
       "      <th>2</th>\n",
       "      <td>8467</td>\n",
       "      <td>HONDA</td>\n",
       "      <td>Hatchback</td>\n",
       "      <td>No</td>\n",
       "      <td>Petrol</td>\n",
       "      <td>4.0</td>\n",
       "      <td>Variator</td>\n",
       "      <td>Front</td>\n",
       "      <td>04-May</td>\n",
       "      <td>Right-hand drive</td>\n",
       "      <td>Black</td>\n",
       "      <td>2</td>\n",
       "      <td>1.3</td>\n",
       "      <td>No</td>\n",
       "      <td>200000</td>\n",
       "      <td>18</td>\n",
       "    </tr>\n",
       "    <tr>\n",
       "      <th>3</th>\n",
       "      <td>3607</td>\n",
       "      <td>FORD</td>\n",
       "      <td>Jeep</td>\n",
       "      <td>Yes</td>\n",
       "      <td>Hybrid</td>\n",
       "      <td>4.0</td>\n",
       "      <td>Automatic</td>\n",
       "      <td>4x4</td>\n",
       "      <td>04-May</td>\n",
       "      <td>Left wheel</td>\n",
       "      <td>White</td>\n",
       "      <td>0</td>\n",
       "      <td>2.5</td>\n",
       "      <td>No</td>\n",
       "      <td>168966</td>\n",
       "      <td>13</td>\n",
       "    </tr>\n",
       "    <tr>\n",
       "      <th>4</th>\n",
       "      <td>11726</td>\n",
       "      <td>HONDA</td>\n",
       "      <td>Hatchback</td>\n",
       "      <td>Yes</td>\n",
       "      <td>Petrol</td>\n",
       "      <td>4.0</td>\n",
       "      <td>Automatic</td>\n",
       "      <td>Front</td>\n",
       "      <td>04-May</td>\n",
       "      <td>Left wheel</td>\n",
       "      <td>Silver</td>\n",
       "      <td>4</td>\n",
       "      <td>1.3</td>\n",
       "      <td>No</td>\n",
       "      <td>91901</td>\n",
       "      <td>10</td>\n",
       "    </tr>\n",
       "  </tbody>\n",
       "</table>\n",
       "</div>"
      ],
      "text/plain": [
       "   Price Manufacturer   Category Leather interior Fuel type  Cylinders  \\\n",
       "0  13328        LEXUS       Jeep              Yes    Hybrid        6.0   \n",
       "1  16621    CHEVROLET       Jeep               No    Petrol        6.0   \n",
       "2   8467        HONDA  Hatchback               No    Petrol        4.0   \n",
       "3   3607         FORD       Jeep              Yes    Hybrid        4.0   \n",
       "4  11726        HONDA  Hatchback              Yes    Petrol        4.0   \n",
       "\n",
       "  Gear box type Drive wheels   Doors             Wheel   Color  Airbags  \\\n",
       "0     Automatic          4x4  04-May        Left wheel  Silver       12   \n",
       "1     Tiptronic          4x4  04-May        Left wheel   Black        8   \n",
       "2      Variator        Front  04-May  Right-hand drive   Black        2   \n",
       "3     Automatic          4x4  04-May        Left wheel   White        0   \n",
       "4     Automatic        Front  04-May        Left wheel  Silver        4   \n",
       "\n",
       "   EngineVolume Turbo  Mileage_km  years  \n",
       "0           3.5    No      186005     14  \n",
       "1           3.0    No      192000     13  \n",
       "2           1.3    No      200000     18  \n",
       "3           2.5    No      168966     13  \n",
       "4           1.3    No       91901     10  "
      ]
     },
     "execution_count": 2,
     "metadata": {},
     "output_type": "execute_result"
    }
   ],
   "source": [
    "import pandas as pd\n",
    "df = pd.read_csv(\"artifacts/data/interim/interim.csv\")\n",
    "df.head()"
   ]
  },
  {
   "cell_type": "code",
   "execution_count": 3,
   "metadata": {},
   "outputs": [
    {
     "name": "stdout",
     "output_type": "stream",
     "text": [
      "Feature: Manufacturer\n",
      "['LEXUS' 'CHEVROLET' 'HONDA' 'FORD' 'HYUNDAI' 'TOYOTA' 'MERCEDES-BENZ'\n",
      " 'OPEL' 'PORSCHE' 'BMW' 'JEEP' 'VOLKSWAGEN' 'AUDI' 'RENAULT' 'NISSAN'\n",
      " 'SUBARU' 'DAEWOO' 'KIA' 'MITSUBISHI' 'SSANGYONG' 'MAZDA' 'GMC' 'FIAT'\n",
      " 'INFINITI' 'ALFA ROMEO' 'SUZUKI' 'ACURA' 'LINCOLN' 'VAZ' 'GAZ' 'CITROEN'\n",
      " 'LAND ROVER' 'MINI' 'DODGE' 'CHRYSLER' 'JAGUAR' 'ISUZU' 'SKODA' 'BUICK'\n",
      " 'TESLA' 'DAIHATSU' 'CADILLAC' 'PEUGEOT' 'VOLVO' 'სხვა' 'HAVAL' 'SCION'\n",
      " 'MERCURY' 'ZAZ' 'ROVER' 'UAZ' 'SEAT' 'LANCIA' 'MOSKVICH' 'MASERATI'\n",
      " 'HUMMER' 'SAAB' 'ROLLS-ROYCE' 'PONTIAC' 'SATURN' 'ASTON MARTIN'\n",
      " 'GREATWALL']\n",
      "-----------------------------------------------------\n",
      "Feature: Category\n",
      "['Jeep' 'Hatchback' 'Sedan' 'Microbus' 'Goods wagon' 'Universal' 'Coupe'\n",
      " 'Minivan' 'Cabriolet' 'Limousine' 'Pickup']\n",
      "-----------------------------------------------------\n",
      "Feature: Leather interior\n",
      "['Yes' 'No']\n",
      "-----------------------------------------------------\n",
      "Feature: Fuel type\n",
      "['Hybrid' 'Petrol' 'Diesel' 'CNG' 'Plug-in Hybrid' 'LPG' 'Hydrogen']\n",
      "-----------------------------------------------------\n",
      "Feature: Gear box type\n",
      "['Automatic' 'Tiptronic' 'Variator' 'Manual']\n",
      "-----------------------------------------------------\n",
      "Feature: Drive wheels\n",
      "['4x4' 'Front' 'Rear']\n",
      "-----------------------------------------------------\n",
      "Feature: Doors\n",
      "['04-May' '02-Mar' '>5']\n",
      "-----------------------------------------------------\n",
      "Feature: Wheel\n",
      "['Left wheel' 'Right-hand drive']\n",
      "-----------------------------------------------------\n",
      "Feature: Color\n",
      "['Silver' 'Black' 'White' 'Grey' 'Blue' 'Green' 'Red' 'Sky blue' 'Orange'\n",
      " 'Yellow' 'Brown' 'Golden' 'Beige' 'Carnelian red' 'Purple' 'Pink']\n",
      "-----------------------------------------------------\n",
      "Feature: Turbo\n",
      "['No' 'Yes']\n",
      "-----------------------------------------------------\n"
     ]
    }
   ],
   "source": [
    "cat_features = df.select_dtypes(include=object).columns\n",
    "for feature in cat_features:\n",
    "    print('Feature:', feature)\n",
    "    print(df[feature].unique())\n",
    "    print('-----------------------------------------------------')"
   ]
  },
  {
   "cell_type": "code",
   "execution_count": 4,
   "metadata": {},
   "outputs": [
    {
     "data": {
      "text/plain": [
       "Index(['Price', 'Manufacturer', 'Category', 'Leather interior', 'Fuel type',\n",
       "       'Cylinders', 'Gear box type', 'Drive wheels', 'Doors', 'Wheel', 'Color',\n",
       "       'Airbags', 'EngineVolume', 'Turbo', 'Mileage_km', 'years'],\n",
       "      dtype='object')"
      ]
     },
     "execution_count": 4,
     "metadata": {},
     "output_type": "execute_result"
    }
   ],
   "source": [
    "df.columns"
   ]
  },
  {
   "cell_type": "code",
   "execution_count": 5,
   "metadata": {},
   "outputs": [
    {
     "data": {
      "text/plain": [
       "Index(['Price', 'Cylinders', 'Airbags', 'EngineVolume', 'Mileage_km', 'years'], dtype='object')"
      ]
     },
     "execution_count": 5,
     "metadata": {},
     "output_type": "execute_result"
    }
   ],
   "source": [
    "df.select_dtypes(include='number').columns"
   ]
  },
  {
   "cell_type": "code",
   "execution_count": 7,
   "metadata": {},
   "outputs": [
    {
     "data": {
      "text/plain": [
       "Index(['Manufacturer', 'Category', 'Leather interior', 'Fuel type',\n",
       "       'Gear box type', 'Drive wheels', 'Doors', 'Wheel', 'Color', 'Turbo'],\n",
       "      dtype='object')"
      ]
     },
     "execution_count": 7,
     "metadata": {},
     "output_type": "execute_result"
    }
   ],
   "source": [
    "df.select_dtypes(include='object').columns"
   ]
  },
  {
   "cell_type": "code",
   "execution_count": null,
   "metadata": {},
   "outputs": [],
   "source": []
  }
 ],
 "metadata": {
  "kernelspec": {
   "display_name": "gpuenv",
   "language": "python",
   "name": "python3"
  },
  "language_info": {
   "codemirror_mode": {
    "name": "ipython",
    "version": 3
   },
   "file_extension": ".py",
   "mimetype": "text/x-python",
   "name": "python",
   "nbconvert_exporter": "python",
   "pygments_lexer": "ipython3",
   "version": "3.8.18"
  }
 },
 "nbformat": 4,
 "nbformat_minor": 2
}
